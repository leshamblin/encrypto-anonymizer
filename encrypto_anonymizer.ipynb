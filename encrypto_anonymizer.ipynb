{
 "cells": [
  {
   "cell_type": "markdown",
   "metadata": {},
   "source": [
    "# 🔐 Encrypto-Anonymizer\n\n",
    "**A simple Google Colab-based tool by Elizabeth Shamblin to anonymize and encrypt CSV data securely.**\n\n",
    "## 🔒 About the Encrypto-Anonymizer\n",
    "- Uploaded files are stored **temporarily** on the virtual machine running your Colab session.\n",
    "- Only **you** (the logged-in Google account) have access to them during that session.\n",
    "- Files are **not shared** with Google, the public, or other users unless you explicitly do so.\n",
    "- Colab does **not store** those files persistently — they are deleted when the session ends (e.g., if idle for 90 minutes or closed).\n"
   ]
  },
  {
   "cell_type": "markdown",
   "metadata": {},
   "source": [
    "## 📁 Step 1: Upload a CSV file"
   ]
  },
  {
   "cell_type": "code",
   "metadata": {
    "jupyter": {
     "is_executing": true
    }
   },
   "source": [
    "from google.colab import files\n",
    "import pandas as pd\n",
    "import io\n",
    "\n",
    "uploaded = files.upload()\n",
    "df = pd.read_csv(io.BytesIO(list(uploaded.values())[0]))\n",
    "df.head()"
   ],
   "outputs": [],
   "execution_count": null
  },
  {
   "cell_type": "markdown",
   "metadata": {},
   "source": [
    "## 🎯 Step 2: Select columns to anonymize"
   ]
  },
  {
   "cell_type": "code",
   "metadata": {},
   "source": [
    "columns_to_anonymize = ['Name', 'Email', 'ID']  # Change as needed\n",
    "print(\"Selected columns to anonymize:\", columns_to_anonymize)"
   ],
   "execution_count": null,
   "outputs": []
  },
  {
   "cell_type": "markdown",
   "metadata": {},
   "source": "## 🔀 Step 3: Anonymize and create encrypted mapping\n\n**Options:**\n- `use_composite_key = True`: Creates a single anonymous ID for all selected columns in a row (linked anonymization)\n- `use_composite_key = False`: Creates separate anonymous IDs for each value (traditional behavior)\n\nThe code now:\n- Checks if values already exist in the mapping to avoid duplicates\n- Can create composite keys for multiple fields\n- Maintains a reverse mapping for efficiency"
  },
  {
   "cell_type": "code",
   "metadata": {},
   "source": "import uuid\nfrom cryptography.fernet import Fernet\nimport json\n\n# Generate a secure encryption key\nfernet_key = Fernet.generate_key()\nfernet = Fernet(fernet_key)\n\n# Single mapping dictionary to store all mappings\nmapping = {}\n# Reverse mapping to check if a value already has an ID\nreverse_mapping = {}\n\nanon_df = df.copy()\n\n# Check if we want to create a composite key for all selected columns\nuse_composite_key = True  # Set to False if you want separate mappings per value\n\nif use_composite_key and len(columns_to_anonymize) > 1:\n    # Create composite key based on all selected columns\n    print(\"Using composite key for multiple columns...\")\n    for index in range(len(df)):\n        # Create a composite key from all anonymized columns for this row\n        composite_parts = []\n        for col in columns_to_anonymize:\n            val = str(df.iloc[index][col])\n            composite_parts.append(val)\n        \n        # Create a unique identifier for this combination\n        composite_key = \"|\".join(composite_parts)\n        \n        # Check if this combination already has an ID\n        if composite_key in reverse_mapping:\n            anon_id = reverse_mapping[composite_key]\n        else:\n            anon_id = str(uuid.uuid4())\n            # Encrypt each value separately but store under same ID\n            encrypted_values = {}\n            for i, col in enumerate(columns_to_anonymize):\n                encrypted_val = fernet.encrypt(composite_parts[i].encode()).decode()\n                encrypted_values[col] = encrypted_val\n            \n            mapping[anon_id] = encrypted_values\n            reverse_mapping[composite_key] = anon_id\n        \n        # Apply the same anonymous ID to all columns for this row\n        for col in columns_to_anonymize:\n            anon_df.loc[index, col] = anon_id\nelse:\n    # Original behavior - separate mapping per value\n    print(\"Using separate mappings per value...\")\n    for col in columns_to_anonymize:\n        new_ids = []\n        for val in df[col]:\n            str_val = str(val)\n            \n            # Check if this value already has a mapping\n            if str_val in reverse_mapping:\n                anon_id = reverse_mapping[str_val]\n            else:\n                anon_id = str(uuid.uuid4())\n                encrypted_val = fernet.encrypt(str_val.encode()).decode()\n                mapping[anon_id] = encrypted_val\n                reverse_mapping[str_val] = anon_id\n            \n            new_ids.append(anon_id)\n        anon_df[col] = new_ids\n\nanon_df.to_csv(\"anonymized.csv\", index=False)\nwith open(\"mapping.json\", \"w\") as f:\n    json.dump(mapping, f)\nwith open(\"key.key\", \"wb\") as f:\n    f.write(fernet_key)\nprint(\"✅ Done anonymizing.\")",
   "outputs": [],
   "execution_count": null
  },
  {
   "cell_type": "markdown",
   "metadata": {},
   "source": [
    "## 💾 Step 4: Download anonymized and encrypted files"
   ]
  },
  {
   "cell_type": "code",
   "metadata": {},
   "source": [
    "files.download(\"anonymized.csv\")\n",
    "files.download(\"mapping.json\")\n",
    "files.download(\"key.key\")"
   ],
   "execution_count": null,
   "outputs": []
  },
  {
   "cell_type": "markdown",
   "metadata": {},
   "source": [
    "## 🔓 Step 5: Upload anonymized file + mapping + key to de-anonymize"
   ]
  },
  {
   "cell_type": "code",
   "metadata": {},
   "source": [
    "uploaded = files.upload()\n",
    "anon_df = pd.read_csv(\"anonymized.csv\")\n",
    "with open(\"mapping.json\") as f:\n",
    "    mapping = json.load(f)\n",
    "with open(\"key.key\", \"rb\") as f:\n",
    "    fernet = Fernet(f.read())"
   ],
   "execution_count": null,
   "outputs": []
  },
  {
   "cell_type": "markdown",
   "metadata": {},
   "source": [
    "## 🔁 Step 6: De-anonymize and restore original values"
   ]
  },
  {
   "cell_type": "code",
   "metadata": {},
   "source": "restored_df = anon_df.copy()\n\n# Check the structure of the mapping to determine how to decrypt\nfor col in columns_to_anonymize:\n    original_values = []\n    for anon_id in anon_df[col]:\n        if isinstance(mapping[anon_id], dict):\n            # Composite key mapping - extract value for specific column\n            encrypted_val = mapping[anon_id][col]\n            decrypted_val = fernet.decrypt(encrypted_val.encode()).decode()\n        else:\n            # Simple mapping - decrypt direct value\n            decrypted_val = fernet.decrypt(mapping[anon_id].encode()).decode()\n        original_values.append(decrypted_val)\n    restored_df[col] = original_values\n\nrestored_df.to_csv(\"restored.csv\", index=False)\nprint(\"✅ Restoration complete.\")",
   "outputs": [],
   "execution_count": null
  },
  {
   "cell_type": "markdown",
   "metadata": {},
   "source": [
    "## 📥 Step 7: Download the restored file"
   ]
  },
  {
   "cell_type": "code",
   "metadata": {},
   "source": [
    "files.download(\"restored.csv\")"
   ],
   "execution_count": null,
   "outputs": []
  }
 ],
 "metadata": {
  "colab": {
   "name": "encrypto_anonymizer.ipynb"
  },
  "kernelspec": {
   "display_name": "Python 3",
   "language": "python",
   "name": "python3"
  },
  "language_info": {
   "name": "python"
  }
 },
 "nbformat": 4,
 "nbformat_minor": 0
}
